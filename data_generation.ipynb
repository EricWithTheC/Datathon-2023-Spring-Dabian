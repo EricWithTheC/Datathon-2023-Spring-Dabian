{
 "cells": [
  {
   "attachments": {},
   "cell_type": "markdown",
   "metadata": {},
   "source": [
    "Import:"
   ]
  },
  {
   "cell_type": "code",
   "execution_count": 18,
   "metadata": {},
   "outputs": [],
   "source": [
    "import pandas as pd\n",
    "import numpy as np"
   ]
  },
  {
   "attachments": {},
   "cell_type": "markdown",
   "metadata": {},
   "source": [
    "Read original data from file and drop NAN"
   ]
  },
  {
   "cell_type": "code",
   "execution_count": 19,
   "metadata": {},
   "outputs": [
    {
     "data": {
      "text/html": [
       "<div>\n",
       "<style scoped>\n",
       "    .dataframe tbody tr th:only-of-type {\n",
       "        vertical-align: middle;\n",
       "    }\n",
       "\n",
       "    .dataframe tbody tr th {\n",
       "        vertical-align: top;\n",
       "    }\n",
       "\n",
       "    .dataframe thead th {\n",
       "        text-align: right;\n",
       "    }\n",
       "</style>\n",
       "<table border=\"1\" class=\"dataframe\">\n",
       "  <thead>\n",
       "    <tr style=\"text-align: right;\">\n",
       "      <th></th>\n",
       "      <th>StateCode</th>\n",
       "      <th>Year</th>\n",
       "      <th>Amount</th>\n",
       "      <th>State</th>\n",
       "      <th>CO2 Emissions (Mmt)</th>\n",
       "      <th>TotalNumberofInvestments</th>\n",
       "      <th>TotalAmountofAssistance</th>\n",
       "    </tr>\n",
       "    <tr>\n",
       "      <th>MSN</th>\n",
       "      <th></th>\n",
       "      <th></th>\n",
       "      <th></th>\n",
       "      <th></th>\n",
       "      <th></th>\n",
       "      <th></th>\n",
       "      <th></th>\n",
       "    </tr>\n",
       "  </thead>\n",
       "  <tbody>\n",
       "    <tr>\n",
       "      <th>BDFDB</th>\n",
       "      <td>KY</td>\n",
       "      <td>2015.0</td>\n",
       "      <td>4524.0</td>\n",
       "      <td>Kentucky</td>\n",
       "      <td>131.34297</td>\n",
       "      <td>129.0</td>\n",
       "      <td>315635700.0</td>\n",
       "    </tr>\n",
       "    <tr>\n",
       "      <th>BDPRP</th>\n",
       "      <td>KY</td>\n",
       "      <td>2015.0</td>\n",
       "      <td>833.0</td>\n",
       "      <td>Kentucky</td>\n",
       "      <td>131.34297</td>\n",
       "      <td>129.0</td>\n",
       "      <td>315635700.0</td>\n",
       "    </tr>\n",
       "    <tr>\n",
       "      <th>BFFDB</th>\n",
       "      <td>KY</td>\n",
       "      <td>2015.0</td>\n",
       "      <td>8246.0</td>\n",
       "      <td>Kentucky</td>\n",
       "      <td>131.34297</td>\n",
       "      <td>129.0</td>\n",
       "      <td>315635700.0</td>\n",
       "    </tr>\n",
       "  </tbody>\n",
       "</table>\n",
       "</div>"
      ],
      "text/plain": [
       "      StateCode    Year  Amount     State  CO2 Emissions (Mmt)  \\\n",
       "MSN                                                              \n",
       "BDFDB        KY  2015.0  4524.0  Kentucky            131.34297   \n",
       "BDPRP        KY  2015.0   833.0  Kentucky            131.34297   \n",
       "BFFDB        KY  2015.0  8246.0  Kentucky            131.34297   \n",
       "\n",
       "       TotalNumberofInvestments  TotalAmountofAssistance  \n",
       "MSN                                                       \n",
       "BDFDB                     129.0              315635700.0  \n",
       "BDPRP                     129.0              315635700.0  \n",
       "BFFDB                     129.0              315635700.0  "
      ]
     },
     "execution_count": 19,
     "metadata": {},
     "output_type": "execute_result"
    }
   ],
   "source": [
    "oriData = pd.read_csv(r'train.csv', index_col = 0)\n",
    "oriData.dropna(inplace = True)\n",
    "oriData = oriData.set_index(\"MSN\")\n",
    "# oriData = oriData.iloc[:,1:]\n",
    "oriData.head(3)"
   ]
  },
  {
   "attachments": {},
   "cell_type": "markdown",
   "metadata": {},
   "source": [
    "Change the data so that it shows for a given state and year, all other information including the MSNs, CO2 emission, invesment, assistance"
   ]
  },
  {
   "attachments": {},
   "cell_type": "markdown",
   "metadata": {},
   "source": [
    "First, setup dataframes"
   ]
  },
  {
   "cell_type": "code",
   "execution_count": 20,
   "metadata": {},
   "outputs": [],
   "source": [
    "df = pd.DataFrame() #overall dataframe\n",
    "state_df = pd.DataFrame() #state holder\n",
    "co2_df = pd.DataFrame() #co2 holder\n",
    "inves_df = pd.DataFrame() #invesment holder\n",
    "assi_df = pd.DataFrame() #assistance\n",
    "year_df = pd.DataFrame()"
   ]
  },
  {
   "attachments": {},
   "cell_type": "markdown",
   "metadata": {},
   "source": [
    "Then, locate each data by looping through state and time"
   ]
  },
  {
   "cell_type": "code",
   "execution_count": 50,
   "metadata": {},
   "outputs": [
    {
     "ename": "InvalidIndexError",
     "evalue": "Reindexing only valid with uniquely valued Index objects",
     "output_type": "error",
     "traceback": [
      "\u001b[1;31m---------------------------------------------------------------------------\u001b[0m",
      "\u001b[1;31mInvalidIndexError\u001b[0m                         Traceback (most recent call last)",
      "\u001b[1;32md:\\OneDrive\\桌面\\RICE\\大二第二学期\\Datathon\\Datathon-2023-Spring-Dabian\\data_generation.ipynb Cell 9\u001b[0m in \u001b[0;36m<cell line: 1>\u001b[1;34m()\u001b[0m\n\u001b[0;32m     <a href='vscode-notebook-cell:/d%3A/OneDrive/%E6%A1%8C%E9%9D%A2/RICE/%E5%A4%A7%E4%BA%8C%E7%AC%AC%E4%BA%8C%E5%AD%A6%E6%9C%9F/Datathon/Datathon-2023-Spring-Dabian/data_generation.ipynb#X14sZmlsZQ%3D%3D?line=14'>15</a>\u001b[0m msns \u001b[39m=\u001b[39m msns\u001b[39m.\u001b[39mtranspose()\n\u001b[0;32m     <a href='vscode-notebook-cell:/d%3A/OneDrive/%E6%A1%8C%E9%9D%A2/RICE/%E5%A4%A7%E4%BA%8C%E7%AC%AC%E4%BA%8C%E5%AD%A6%E6%9C%9F/Datathon/Datathon-2023-Spring-Dabian/data_generation.ipynb#X14sZmlsZQ%3D%3D?line=15'>16</a>\u001b[0m \u001b[39m# print(msns)\u001b[39;00m\n\u001b[0;32m     <a href='vscode-notebook-cell:/d%3A/OneDrive/%E6%A1%8C%E9%9D%A2/RICE/%E5%A4%A7%E4%BA%8C%E7%AC%AC%E4%BA%8C%E5%AD%A6%E6%9C%9F/Datathon/Datathon-2023-Spring-Dabian/data_generation.ipynb#X14sZmlsZQ%3D%3D?line=16'>17</a>\u001b[0m \n\u001b[0;32m     <a href='vscode-notebook-cell:/d%3A/OneDrive/%E6%A1%8C%E9%9D%A2/RICE/%E5%A4%A7%E4%BA%8C%E7%AC%AC%E4%BA%8C%E5%AD%A6%E6%9C%9F/Datathon/Datathon-2023-Spring-Dabian/data_generation.ipynb#X14sZmlsZQ%3D%3D?line=17'>18</a>\u001b[0m \u001b[39m#add all information to df\u001b[39;00m\n\u001b[1;32m---> <a href='vscode-notebook-cell:/d%3A/OneDrive/%E6%A1%8C%E9%9D%A2/RICE/%E5%A4%A7%E4%BA%8C%E7%AC%AC%E4%BA%8C%E5%AD%A6%E6%9C%9F/Datathon/Datathon-2023-Spring-Dabian/data_generation.ipynb#X14sZmlsZQ%3D%3D?line=18'>19</a>\u001b[0m df \u001b[39m=\u001b[39m pd\u001b[39m.\u001b[39;49mconcat([df,msns], axis \u001b[39m=\u001b[39;49m \u001b[39m1\u001b[39;49m)\n\u001b[0;32m     <a href='vscode-notebook-cell:/d%3A/OneDrive/%E6%A1%8C%E9%9D%A2/RICE/%E5%A4%A7%E4%BA%8C%E7%AC%AC%E4%BA%8C%E5%AD%A6%E6%9C%9F/Datathon/Datathon-2023-Spring-Dabian/data_generation.ipynb#X14sZmlsZQ%3D%3D?line=19'>20</a>\u001b[0m \u001b[39m# df = pd.concat([df,state], ignore_index = True)\u001b[39;00m\n\u001b[0;32m     <a href='vscode-notebook-cell:/d%3A/OneDrive/%E6%A1%8C%E9%9D%A2/RICE/%E5%A4%A7%E4%BA%8C%E7%AC%AC%E4%BA%8C%E5%AD%A6%E6%9C%9F/Datathon/Datathon-2023-Spring-Dabian/data_generation.ipynb#X14sZmlsZQ%3D%3D?line=20'>21</a>\u001b[0m co2_df \u001b[39m=\u001b[39m co2_df\u001b[39m.\u001b[39mappend(co2, ignore_index \u001b[39m=\u001b[39m \u001b[39mTrue\u001b[39;00m)\n",
      "File \u001b[1;32mc:\\Users\\ericw\\AppData\\Local\\Programs\\Python\\Python38\\lib\\site-packages\\pandas\\util\\_decorators.py:331\u001b[0m, in \u001b[0;36mdeprecate_nonkeyword_arguments.<locals>.decorate.<locals>.wrapper\u001b[1;34m(*args, **kwargs)\u001b[0m\n\u001b[0;32m    325\u001b[0m \u001b[39mif\u001b[39;00m \u001b[39mlen\u001b[39m(args) \u001b[39m>\u001b[39m num_allow_args:\n\u001b[0;32m    326\u001b[0m     warnings\u001b[39m.\u001b[39mwarn(\n\u001b[0;32m    327\u001b[0m         msg\u001b[39m.\u001b[39mformat(arguments\u001b[39m=\u001b[39m_format_argument_list(allow_args)),\n\u001b[0;32m    328\u001b[0m         \u001b[39mFutureWarning\u001b[39;00m,\n\u001b[0;32m    329\u001b[0m         stacklevel\u001b[39m=\u001b[39mfind_stack_level(),\n\u001b[0;32m    330\u001b[0m     )\n\u001b[1;32m--> 331\u001b[0m \u001b[39mreturn\u001b[39;00m func(\u001b[39m*\u001b[39;49margs, \u001b[39m*\u001b[39;49m\u001b[39m*\u001b[39;49mkwargs)\n",
      "File \u001b[1;32mc:\\Users\\ericw\\AppData\\Local\\Programs\\Python\\Python38\\lib\\site-packages\\pandas\\core\\reshape\\concat.py:381\u001b[0m, in \u001b[0;36mconcat\u001b[1;34m(objs, axis, join, ignore_index, keys, levels, names, verify_integrity, sort, copy)\u001b[0m\n\u001b[0;32m    159\u001b[0m \u001b[39m\"\"\"\u001b[39;00m\n\u001b[0;32m    160\u001b[0m \u001b[39mConcatenate pandas objects along a particular axis.\u001b[39;00m\n\u001b[0;32m    161\u001b[0m \n\u001b[1;32m   (...)\u001b[0m\n\u001b[0;32m    366\u001b[0m \u001b[39m1   3   4\u001b[39;00m\n\u001b[0;32m    367\u001b[0m \u001b[39m\"\"\"\u001b[39;00m\n\u001b[0;32m    368\u001b[0m op \u001b[39m=\u001b[39m _Concatenator(\n\u001b[0;32m    369\u001b[0m     objs,\n\u001b[0;32m    370\u001b[0m     axis\u001b[39m=\u001b[39maxis,\n\u001b[1;32m   (...)\u001b[0m\n\u001b[0;32m    378\u001b[0m     sort\u001b[39m=\u001b[39msort,\n\u001b[0;32m    379\u001b[0m )\n\u001b[1;32m--> 381\u001b[0m \u001b[39mreturn\u001b[39;00m op\u001b[39m.\u001b[39;49mget_result()\n",
      "File \u001b[1;32mc:\\Users\\ericw\\AppData\\Local\\Programs\\Python\\Python38\\lib\\site-packages\\pandas\\core\\reshape\\concat.py:612\u001b[0m, in \u001b[0;36m_Concatenator.get_result\u001b[1;34m(self)\u001b[0m\n\u001b[0;32m    610\u001b[0m         obj_labels \u001b[39m=\u001b[39m obj\u001b[39m.\u001b[39maxes[\u001b[39m1\u001b[39m \u001b[39m-\u001b[39m ax]\n\u001b[0;32m    611\u001b[0m         \u001b[39mif\u001b[39;00m \u001b[39mnot\u001b[39;00m new_labels\u001b[39m.\u001b[39mequals(obj_labels):\n\u001b[1;32m--> 612\u001b[0m             indexers[ax] \u001b[39m=\u001b[39m obj_labels\u001b[39m.\u001b[39;49mget_indexer(new_labels)\n\u001b[0;32m    614\u001b[0m     mgrs_indexers\u001b[39m.\u001b[39mappend((obj\u001b[39m.\u001b[39m_mgr, indexers))\n\u001b[0;32m    616\u001b[0m new_data \u001b[39m=\u001b[39m concatenate_managers(\n\u001b[0;32m    617\u001b[0m     mgrs_indexers, \u001b[39mself\u001b[39m\u001b[39m.\u001b[39mnew_axes, concat_axis\u001b[39m=\u001b[39m\u001b[39mself\u001b[39m\u001b[39m.\u001b[39mbm_axis, copy\u001b[39m=\u001b[39m\u001b[39mself\u001b[39m\u001b[39m.\u001b[39mcopy\n\u001b[0;32m    618\u001b[0m )\n",
      "File \u001b[1;32mc:\\Users\\ericw\\AppData\\Local\\Programs\\Python\\Python38\\lib\\site-packages\\pandas\\core\\indexes\\base.py:3904\u001b[0m, in \u001b[0;36mIndex.get_indexer\u001b[1;34m(self, target, method, limit, tolerance)\u001b[0m\n\u001b[0;32m   3901\u001b[0m \u001b[39mself\u001b[39m\u001b[39m.\u001b[39m_check_indexing_method(method, limit, tolerance)\n\u001b[0;32m   3903\u001b[0m \u001b[39mif\u001b[39;00m \u001b[39mnot\u001b[39;00m \u001b[39mself\u001b[39m\u001b[39m.\u001b[39m_index_as_unique:\n\u001b[1;32m-> 3904\u001b[0m     \u001b[39mraise\u001b[39;00m InvalidIndexError(\u001b[39mself\u001b[39m\u001b[39m.\u001b[39m_requires_unique_msg)\n\u001b[0;32m   3906\u001b[0m \u001b[39mif\u001b[39;00m \u001b[39mlen\u001b[39m(target) \u001b[39m==\u001b[39m \u001b[39m0\u001b[39m:\n\u001b[0;32m   3907\u001b[0m     \u001b[39mreturn\u001b[39;00m np\u001b[39m.\u001b[39marray([], dtype\u001b[39m=\u001b[39mnp\u001b[39m.\u001b[39mintp)\n",
      "\u001b[1;31mInvalidIndexError\u001b[0m: Reindexing only valid with uniquely valued Index objects"
     ]
    }
   ],
   "source": [
    "for place in set(oriData['State']):\n",
    "    state = {'State': place}\n",
    "\n",
    "    for time in set(oriData['Year']):\n",
    "        year = {'Year': time}\n",
    "        co2 = {'CO2': oriData[(oriData['State']==place) & (oriData['Year']==time)]['CO2 Emissions (Mmt)'][0]} #?\n",
    "        inves = {'Invesement': oriData[(oriData['State']==place) & (oriData['Year']==time)]['TotalNumberofInvestments'][0]}\n",
    "        assi = {'Assistance': oriData[(oriData['State']==place) & (oriData['Year']==time)]['TotalAmountofAssistance'][0]}\n",
    "\n",
    "        #Adding MSN \n",
    "        msns = oriData.loc[(oriData.State == place) & (oriData.Year == time)]\n",
    "        \n",
    "        msns = msns.transpose()\n",
    "        msns = msns.loc['Amount',:]\n",
    "        msns = msns.transpose()\n",
    "        # print(msns)\n",
    "\n",
    "        #add all information to df\n",
    "        df = pd.concat([df,msns], axis = 1)\n",
    "        # df = pd.concat([df,state], ignore_index = True)\n",
    "        co2_df = co2_df.append(co2, ignore_index = True)\n",
    "        inves_df = inves_df.append(inves, ignore_index = True)\n",
    "        assi_df = assi_df.append(assi, ignore_index = True)\n",
    "        year_df = year_df.append(year, ignore_index = True)\n",
    "\n",
    "df = df.transpose()\n",
    "df.index = [i for i in range(250)]\n",
    "df.head(10)\n"
   ]
  }
 ],
 "metadata": {
  "kernelspec": {
   "display_name": "Python 3",
   "language": "python",
   "name": "python3"
  },
  "language_info": {
   "codemirror_mode": {
    "name": "ipython",
    "version": 3
   },
   "file_extension": ".py",
   "mimetype": "text/x-python",
   "name": "python",
   "nbconvert_exporter": "python",
   "pygments_lexer": "ipython3",
   "version": "3.8.10"
  },
  "orig_nbformat": 4,
  "vscode": {
   "interpreter": {
    "hash": "a9211dc79ae268d782484edf1d1f47494da0ff8841ca85c75460c6e71472fa69"
   }
  }
 },
 "nbformat": 4,
 "nbformat_minor": 2
}
