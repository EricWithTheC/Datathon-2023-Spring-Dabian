{
 "cells": [
  {
   "cell_type": "code",
   "execution_count": 33,
   "metadata": {},
   "outputs": [],
   "source": [
    "import pandas as pd\n",
    "train = pd.read_csv('training_data.csv')\n",
    "test = pd.read_csv(\"testing_data.csv\")"
   ]
  },
  {
   "cell_type": "code",
   "execution_count": 34,
   "metadata": {},
   "outputs": [],
   "source": [
    "from sklearn import linear_model\n",
    "x_lst = list(train.columns[1:-1])\n",
    "# print(x_lst)\n",
    "xTrain = train[x_lst]\n",
    "yTrain = train['TargetAssistance']\n",
    "\n",
    "xTest = test[x_lst]\n",
    "yTest = test['TargetAssistance']\n"
   ]
  },
  {
   "cell_type": "code",
   "execution_count": 35,
   "metadata": {},
   "outputs": [
    {
     "data": {
      "text/plain": [
       "0       2622475.0\n",
       "1       2067441.0\n",
       "2       7777098.0\n",
       "3       1948714.0\n",
       "4       2944583.0\n",
       "          ...    \n",
       "145    64580916.0\n",
       "146    22430291.0\n",
       "147     1091494.0\n",
       "148     2449554.0\n",
       "149     2257495.0\n",
       "Name: TargetAssistance, Length: 150, dtype: float64"
      ]
     },
     "execution_count": 35,
     "metadata": {},
     "output_type": "execute_result"
    }
   ],
   "source": [
    "xTrain\n",
    "yTrain"
   ]
  },
  {
   "cell_type": "code",
   "execution_count": 36,
   "metadata": {},
   "outputs": [
    {
     "data": {
      "text/plain": [
       "81"
      ]
     },
     "execution_count": 36,
     "metadata": {},
     "output_type": "execute_result"
    }
   ],
   "source": [
    "len(x_lst)"
   ]
  },
  {
   "cell_type": "code",
   "execution_count": 37,
   "metadata": {},
   "outputs": [],
   "source": [
    "# from sklearn.model_selection import train_test_split\n",
    "# X_train, X_test, y_train, y_test = train_test_split(x, y, test_size=0.2)\n",
    "# print(X_train.shape, y_train.shape)\n",
    "# print(X_test.shape, y_test.shape)\n"
   ]
  },
  {
   "cell_type": "code",
   "execution_count": 41,
   "metadata": {},
   "outputs": [
    {
     "name": "stdout",
     "output_type": "stream",
     "text": [
      "3291107188348730.0\n",
      "[-1.56441735e+06 -9.44173935e+06  5.09507448e+06  4.44137347e+06\n",
      " -2.41086504e+06  6.97634672e+05 -6.22291759e+03  1.13223515e+09\n",
      " -2.50671849e+06 -4.30182547e+06  5.47789832e+06  5.44574641e+06\n",
      " -2.83322973e+06 -2.41125294e+06 -5.41270671e+07  4.64071095e+01\n",
      " -2.41078742e+06 -2.41424676e+06  1.69281303e+04 -5.02377720e+06\n",
      "  5.44648409e+06  2.41122232e+06 -5.99600383e+01  3.82555261e+06\n",
      "  5.43699489e+06  3.82518255e+06  9.26377025e+06 -6.64991838e+06\n",
      "  5.44600086e+06  2.29918732e+06 -4.01125036e-01 -2.31496815e+09\n",
      " -1.95534264e+09 -2.32583318e+09 -2.10792350e+09 -6.04067530e+09\n",
      " -2.14800893e+09  4.31046048e+09  4.40804771e+09 -2.76959161e+09\n",
      "  4.16525267e+09  4.31206087e+09 -2.05878052e+09 -2.89098474e+09\n",
      " -2.49748276e+09  4.18203612e+09 -2.17606526e+09 -2.31831849e+09\n",
      " -2.30531123e+09  4.44553403e+09  4.32466191e+09  4.29447590e+09\n",
      " -2.49686159e+09  4.23001118e+09 -2.05118382e+09 -2.18216640e+09\n",
      " -2.03929592e+09 -2.19177726e+09 -2.92160612e+09  4.38543727e+09\n",
      "  4.13132256e+09 -2.04634704e+09 -2.41962760e+09  4.35574168e+09\n",
      " -1.93436929e+09 -2.48528906e+09 -2.11419241e+09  4.50060391e+09\n",
      " -2.96317859e+09  4.41666669e+09  4.19807415e+09 -2.06147996e+09\n",
      " -2.22213141e+09 -2.53551626e+09 -2.27022065e+09  4.44401056e+09\n",
      " -2.31735256e+09  4.35818270e+09 -2.43375357e+09  4.25561678e+09\n",
      " -2.12256131e+09]\n",
      "81\n"
     ]
    }
   ],
   "source": [
    "from sklearn.linear_model import LinearRegression\n",
    "from sklearn.model_selection import cross_val_score\n",
    "from sklearn.metrics import mean_squared_error\n",
    "\n",
    "model = LinearRegression()\n",
    "model.fit(xTrain, yTrain)\n",
    "\n",
    "y_pred = model.predict(xTest)\n",
    "\n",
    "print(mean_squared_error(yTest, y_pred)) \n",
    "print(model.coef_) #权重\n",
    "print(model.n_features_in_) #几个输入\n"
   ]
  },
  {
   "cell_type": "code",
   "execution_count": null,
   "metadata": {},
   "outputs": [],
   "source": []
  },
  {
   "cell_type": "code",
   "execution_count": null,
   "metadata": {},
   "outputs": [],
   "source": []
  }
 ],
 "metadata": {
  "kernelspec": {
   "display_name": "Python 3",
   "language": "python",
   "name": "python3"
  },
  "language_info": {
   "codemirror_mode": {
    "name": "ipython",
    "version": 3
   },
   "file_extension": ".py",
   "mimetype": "text/x-python",
   "name": "python",
   "nbconvert_exporter": "python",
   "pygments_lexer": "ipython3",
   "version": "3.8.10"
  },
  "orig_nbformat": 4,
  "vscode": {
   "interpreter": {
    "hash": "a9211dc79ae268d782484edf1d1f47494da0ff8841ca85c75460c6e71472fa69"
   }
  }
 },
 "nbformat": 4,
 "nbformat_minor": 2
}
