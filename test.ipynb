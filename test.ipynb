{
 "cells": [
  {
   "cell_type": "code",
   "execution_count": 5,
   "id": "cc1da5f7",
   "metadata": {},
   "outputs": [
    {
     "data": {
      "text/html": [
       "<style type='text/css'>\n",
       ".CodeMirror{\n",
       "font-family: 'JetBrainsMono';\n",
       "</style>\n"
      ],
      "text/plain": [
       "<IPython.core.display.HTML object>"
      ]
     },
     "metadata": {},
     "output_type": "display_data"
    }
   ],
   "source": [
    "%%html\n",
    "<style type='text/css'>\n",
    ".CodeMirror{\n",
    "font-family: 'JetBrainsMono';\n",
    "</style>"
   ]
  },
  {
   "cell_type": "code",
   "execution_count": 6,
   "id": "0126d59d",
   "metadata": {},
   "outputs": [],
   "source": [
    "import pandas as pd"
   ]
  },
  {
   "cell_type": "code",
   "execution_count": 7,
   "id": "ee7b8ebb",
   "metadata": {},
   "outputs": [],
   "source": [
    "df = pd.read_csv('Investment_Data_Train.xlsx - train_data.csv')"
   ]
  },
  {
   "cell_type": "code",
   "execution_count": 8,
   "id": "df6cf0dc",
   "metadata": {},
   "outputs": [
    {
     "data": {
      "text/html": [
       "<div>\n",
       "<style scoped>\n",
       "    .dataframe tbody tr th:only-of-type {\n",
       "        vertical-align: middle;\n",
       "    }\n",
       "\n",
       "    .dataframe tbody tr th {\n",
       "        vertical-align: top;\n",
       "    }\n",
       "\n",
       "    .dataframe thead th {\n",
       "        text-align: right;\n",
       "    }\n",
       "</style>\n",
       "<table border=\"1\" class=\"dataframe\">\n",
       "  <thead>\n",
       "    <tr style=\"text-align: right;\">\n",
       "      <th></th>\n",
       "      <th>Unnamed: 0</th>\n",
       "      <th>MSN</th>\n",
       "      <th>StateCode</th>\n",
       "      <th>Year</th>\n",
       "      <th>Amount</th>\n",
       "      <th>State</th>\n",
       "      <th>CO2 Emissions (Mmt)</th>\n",
       "      <th>TotalNumberofInvestments</th>\n",
       "      <th>TotalAmountofAssistance</th>\n",
       "    </tr>\n",
       "  </thead>\n",
       "  <tbody>\n",
       "    <tr>\n",
       "      <th>0</th>\n",
       "      <td>0</td>\n",
       "      <td>BDFDB</td>\n",
       "      <td>AK</td>\n",
       "      <td>2015</td>\n",
       "      <td>21.0</td>\n",
       "      <td>Alaska</td>\n",
       "      <td>35.027804</td>\n",
       "      <td>16.0</td>\n",
       "      <td>3345612.0</td>\n",
       "    </tr>\n",
       "    <tr>\n",
       "      <th>1</th>\n",
       "      <td>1</td>\n",
       "      <td>BDPRP</td>\n",
       "      <td>AK</td>\n",
       "      <td>2015</td>\n",
       "      <td>4.0</td>\n",
       "      <td>Alaska</td>\n",
       "      <td>35.027804</td>\n",
       "      <td>16.0</td>\n",
       "      <td>3345612.0</td>\n",
       "    </tr>\n",
       "    <tr>\n",
       "      <th>2</th>\n",
       "      <td>2</td>\n",
       "      <td>BFFDB</td>\n",
       "      <td>AK</td>\n",
       "      <td>2015</td>\n",
       "      <td>21.0</td>\n",
       "      <td>Alaska</td>\n",
       "      <td>35.027804</td>\n",
       "      <td>16.0</td>\n",
       "      <td>3345612.0</td>\n",
       "    </tr>\n",
       "    <tr>\n",
       "      <th>3</th>\n",
       "      <td>3</td>\n",
       "      <td>BFPRP</td>\n",
       "      <td>AK</td>\n",
       "      <td>2015</td>\n",
       "      <td>4.0</td>\n",
       "      <td>Alaska</td>\n",
       "      <td>35.027804</td>\n",
       "      <td>16.0</td>\n",
       "      <td>3345612.0</td>\n",
       "    </tr>\n",
       "    <tr>\n",
       "      <th>4</th>\n",
       "      <td>4</td>\n",
       "      <td>CLPRB</td>\n",
       "      <td>AK</td>\n",
       "      <td>2015</td>\n",
       "      <td>17747.0</td>\n",
       "      <td>Alaska</td>\n",
       "      <td>35.027804</td>\n",
       "      <td>16.0</td>\n",
       "      <td>3345612.0</td>\n",
       "    </tr>\n",
       "  </tbody>\n",
       "</table>\n",
       "</div>"
      ],
      "text/plain": [
       "   Unnamed: 0    MSN StateCode  Year   Amount   State  CO2 Emissions (Mmt)  \\\n",
       "0           0  BDFDB        AK  2015     21.0  Alaska            35.027804   \n",
       "1           1  BDPRP        AK  2015      4.0  Alaska            35.027804   \n",
       "2           2  BFFDB        AK  2015     21.0  Alaska            35.027804   \n",
       "3           3  BFPRP        AK  2015      4.0  Alaska            35.027804   \n",
       "4           4  CLPRB        AK  2015  17747.0  Alaska            35.027804   \n",
       "\n",
       "   TotalNumberofInvestments  TotalAmountofAssistance  \n",
       "0                      16.0                3345612.0  \n",
       "1                      16.0                3345612.0  \n",
       "2                      16.0                3345612.0  \n",
       "3                      16.0                3345612.0  \n",
       "4                      16.0                3345612.0  "
      ]
     },
     "execution_count": 8,
     "metadata": {},
     "output_type": "execute_result"
    }
   ],
   "source": [
    "df.head()"
   ]
  },
  {
   "cell_type": "code",
   "execution_count": 9,
   "id": "b9f6bf63",
   "metadata": {},
   "outputs": [],
   "source": [
    "df1 = pd.read_csv('MSN Codes.xlsx - MSN Codes.csv')"
   ]
  },
  {
   "cell_type": "code",
   "execution_count": 10,
   "id": "fa49510a",
   "metadata": {
    "scrolled": true
   },
   "outputs": [
    {
     "data": {
      "text/html": [
       "<div>\n",
       "<style scoped>\n",
       "    .dataframe tbody tr th:only-of-type {\n",
       "        vertical-align: middle;\n",
       "    }\n",
       "\n",
       "    .dataframe tbody tr th {\n",
       "        vertical-align: top;\n",
       "    }\n",
       "\n",
       "    .dataframe thead th {\n",
       "        text-align: right;\n",
       "    }\n",
       "</style>\n",
       "<table border=\"1\" class=\"dataframe\">\n",
       "  <thead>\n",
       "    <tr style=\"text-align: right;\">\n",
       "      <th></th>\n",
       "      <th>MSN</th>\n",
       "      <th>Description</th>\n",
       "      <th>Unit</th>\n",
       "    </tr>\n",
       "  </thead>\n",
       "  <tbody>\n",
       "    <tr>\n",
       "      <th>0</th>\n",
       "      <td>BDFDB</td>\n",
       "      <td>Biomass inputs (feedstock) to the production o...</td>\n",
       "      <td>Billion Btu</td>\n",
       "    </tr>\n",
       "    <tr>\n",
       "      <th>1</th>\n",
       "      <td>BDPRP</td>\n",
       "      <td>Biodiesel production</td>\n",
       "      <td>Thousand barrels</td>\n",
       "    </tr>\n",
       "    <tr>\n",
       "      <th>2</th>\n",
       "      <td>BFFDB</td>\n",
       "      <td>Biomass inputs (feedstock) to the production o...</td>\n",
       "      <td>Billion Btu</td>\n",
       "    </tr>\n",
       "    <tr>\n",
       "      <th>3</th>\n",
       "      <td>BFPRP</td>\n",
       "      <td>Biofuels production</td>\n",
       "      <td>Thousand barrels</td>\n",
       "    </tr>\n",
       "    <tr>\n",
       "      <th>4</th>\n",
       "      <td>CLPRB</td>\n",
       "      <td>Coal production</td>\n",
       "      <td>Billion Btu</td>\n",
       "    </tr>\n",
       "  </tbody>\n",
       "</table>\n",
       "</div>"
      ],
      "text/plain": [
       "     MSN                                        Description              Unit\n",
       "0  BDFDB  Biomass inputs (feedstock) to the production o...       Billion Btu\n",
       "1  BDPRP                               Biodiesel production  Thousand barrels\n",
       "2  BFFDB  Biomass inputs (feedstock) to the production o...       Billion Btu\n",
       "3  BFPRP                                Biofuels production  Thousand barrels\n",
       "4  CLPRB                                    Coal production       Billion Btu"
      ]
     },
     "execution_count": 10,
     "metadata": {},
     "output_type": "execute_result"
    }
   ],
   "source": [
    "df1.head()"
   ]
  },
  {
   "cell_type": "code",
   "execution_count": null,
   "id": "c5e78bc8",
   "metadata": {},
   "outputs": [],
   "source": []
  }
 ],
 "metadata": {
  "kernelspec": {
   "display_name": "Python 3 (ipykernel)",
   "language": "python",
   "name": "python3"
  },
  "language_info": {
   "codemirror_mode": {
    "name": "ipython",
    "version": 3
   },
   "file_extension": ".py",
   "mimetype": "text/x-python",
   "name": "python",
   "nbconvert_exporter": "python",
   "pygments_lexer": "ipython3",
   "version": "3.9.7"
  }
 },
 "nbformat": 4,
 "nbformat_minor": 5
}
